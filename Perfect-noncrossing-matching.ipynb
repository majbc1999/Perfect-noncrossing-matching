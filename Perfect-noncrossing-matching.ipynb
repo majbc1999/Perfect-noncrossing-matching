{
 "cells": [
  {
   "cell_type": "code",
   "execution_count": 62,
   "metadata": {
    "collapsed": false
   },
   "outputs": [
    {
     "name": "stdout",
     "output_type": "stream",
     "text": [
      "Nastavitve uspešno nastavljene\n"
     ]
    }
   ],
   "source": [
    "################################################ nastavitve ###########################################################\n",
    "\n",
    "# Nastavitve programa (potem vse ostalo sam izračuna)\n",
    "# Tukaj nastavimo število točk in točke (če pustimo prazno računalnik samodejno izbere 2n točk) \n",
    "\n",
    "stevilo_tock = 16\n",
    "#zacetne_tocke = [[0,5],[-4,3],[-1,-6],[7,2],[4,-4],[7,0],[-4,-1],[0,0]]\n",
    "zacetne_tocke = []\n",
    "\n",
    "# Način programa (\"max\": makismiziramo dolžine povezav ali \"min\": minimiziramo dolžine povezav)\n",
    "\n",
    "nacin = \"max\"\n",
    "\n",
    "######################################## tukaj naprej ne spreminjaj ###################################################\n",
    "\n",
    "\n",
    "\n",
    "if stevilo_tock % 2 != 0:\n",
    "    print(\"Napaka: izbrati je treba sodo število točk\")\n",
    "elif len(zacetne_tocke) != 0 and len(zacetne_tocke) != stevilo_tock:\n",
    "    print(\"Napaka: premalo ali preveč točk\")\n",
    "else:\n",
    "    print(\"Nastavitve uspešno nastavljene\")\n",
    "\n",
    "import random\n",
    "\n",
    "# Funkcija, ki bo naključno generirala n točk v prostoru [0,9.99] x [0,9.99]\n",
    "stevila = [0,1,2,3,4,5,6,7,8,9]\n",
    "def generiraj_n_tock(n):\n",
    "    tocke = []\n",
    "    i = n\n",
    "    while i != 0:\n",
    "        a = random.choice(stevila)\n",
    "        b = random.choice(stevila)\n",
    "        c = random.choice(stevila)\n",
    "        d = random.choice(stevila)\n",
    "        e = random.choice(stevila)\n",
    "        f = random.choice(stevila)\n",
    "        stevilo1 = a + b * 1/10 + c * 1/100\n",
    "        stevilo2 = d + e * 1/10 + f * 1/100\n",
    "        tocka = [stevilo1, stevilo2]\n",
    "        if tocka not in tocke:\n",
    "            tocke.append(tocka)\n",
    "            i = i - 1\n",
    "    return tocke"
   ]
  },
  {
   "cell_type": "code",
   "execution_count": 63,
   "metadata": {
    "collapsed": false
   },
   "outputs": [
    {
     "name": "stdout",
     "output_type": "stream",
     "text": [
      "Izbrane točke:\n",
      "[4.14, 4.37]\n",
      "[9.03, 4.67]\n",
      "[1.96, 2.83]\n",
      "[0.29, 7.44]\n",
      "[4.43, 2.36]\n",
      "[8.96, 2.07]\n",
      "[9.58, 9.39]\n",
      "[4.69, 4.32]\n",
      "[3.93, 4.36]\n",
      "[3.1, 2.03]\n",
      "[7.71, 8.12]\n",
      "[3.42, 1.51]\n",
      "[1.92, 0.16]\n",
      "[1.56, 1.42]\n",
      "[4.2, 5.83]\n",
      "[8.22, 6.66]\n"
     ]
    },
    {
     "data": {
      "image/png": "[encoded data removed]",
      "text/plain": [
       "Graphics object consisting of 1 graphics primitive"
      ]
     },
     "execution_count": 63,
     "metadata": {
     },
     "output_type": "execute_result"
    }
   ],
   "source": [
    "# Generator točk\n",
    "\n",
    "# Pozor: če želimo uporabiti iste točke in spreminjamo samo način, moramo ta korak izpustiti. Sicer po program izbran novih n naključnih točk\n",
    "\n",
    "if len(zacetne_tocke) == 0:\n",
    "    seznam_tock = generiraj_n_tock(stevilo_tock)\n",
    "else: seznam_tock = zacetne_tocke\n",
    "\n",
    "print(\"Izbrane točke:\")\n",
    "zacasni_seznam = seznam_tock\n",
    "for i in range(len(seznam_tock)):\n",
    "    zacasni_seznam[i][0] = float(seznam_tock[i][0])\n",
    "    zacasni_seznam[i][1] = float(seznam_tock[i][1])\n",
    "    print(zacasni_seznam[i])\n",
    "\n",
    "graf_tock = list_plot(seznam_tock, color='red', pointsize=30)\n",
    "show(graf_tock, aspect_ratio=1)"
   ]
  },
  {
   "cell_type": "code",
   "execution_count": 64,
   "metadata": {
    "collapsed": false
   },
   "outputs": [
    {
     "name": "stdout",
     "output_type": "stream",
     "text": [
      "Razdalje uspešno izračunane\n"
     ]
    }
   ],
   "source": [
    "# Razdalje med točkami\n",
    "\n",
    "# Definiramo število točk\n",
    "st_tock = len(seznam_tock)\n",
    "\n",
    "# Naredimo matriko razdalj med posameznimi točkami. Če sta točki enaki je razdalja 0\n",
    "def razdalja(tocka1, tocka2): return sqrt((tocka1[0]-tocka2[0])^2 + (tocka1[1]-tocka2[1])^2)\n",
    "\n",
    "razdalje = []\n",
    "for i in range(st_tock):\n",
    "    a = []\n",
    "    for j in range(st_tock):\n",
    "        a.append(razdalja(seznam_tock[i], seznam_tock[j]))\n",
    "    razdalje.append(a)\n",
    "\n",
    "print(\"Razdalje uspešno izračunane\")"
   ]
  },
  {
   "cell_type": "code",
   "execution_count": 65,
   "metadata": {
    "collapsed": false
   },
   "outputs": [
    {
     "name": "stdout",
     "output_type": "stream",
     "text": [
      "Matrika presečišč uspešno izračunana\n"
     ]
    }
   ],
   "source": [
    "# Presečišča daljic\n",
    "\n",
    "# Funkcija pove, ali se daljici (t1,t2) in (t3,t4) sekata\n",
    "def alisesekata(t1, t2, t3, t4):\n",
    "    if (t1 == t3 and t2 == t4) or (t1 == t4 and t2 == t3):\n",
    "        return False\n",
    "    if (t1 == t2 or t1 == t3 or t1 == t4 or t2 == t3 or t2 == t4 or t3 == t4):\n",
    "        return True\n",
    "    if t1[0] == t2[0]:\n",
    "        if t3[0] == t4[0]:\n",
    "            return False\n",
    "        else:\n",
    "            k2 = (t3[1] - t4[1]) / (t3[0] - t4[0])\n",
    "            n2 = 1 / 2 * (t3[1] + t4[1] - k2 * (t3[0] + t4[0]))\n",
    "            y = t1[0] * k2 + n2\n",
    "            if (y >= min(t3[1], t4[1]) and y <= max(t3[1], t4[1])):\n",
    "                return True\n",
    "            else:\n",
    "                return False\n",
    "    else: k1 = (t1[1] - t2[1]) / (t1[0] - t2[0])\n",
    "    if t3[0] == t4[0]:\n",
    "        n1 = 1 / 2 * (t1[1] + t2[1] - k1 * (t1[0] + t2[0]))\n",
    "        y = t3[0] * k1 + n1\n",
    "        if (y >= min(t1[1], t2[1]) and y <= max(t1[1], t2[1])):\n",
    "            return True\n",
    "        else: return False\n",
    "    else: k2 = (t3[1] - t4[1]) / (t3[0] - t4[0])\n",
    "    n1 = 1 / 2 * (t1[1] + t2[1] - k1 * (t1[0] + t2[0]))\n",
    "    n2 = 1 / 2 * (t3[1] + t4[1] - k2 * (t3[0] + t4[0]))\n",
    "    if (k1 == k2):\n",
    "        if (n1 == n2):\n",
    "            if ((max(t1[0], t2[0]) < min[t3[0],t4[0]]) or (min(t1[0], t2[0]) > max[t3[0],t4[0]])):\n",
    "                return False\n",
    "            else: return True\n",
    "        else: return False\n",
    "    x = (n2 - n1) / (k1 - k2)\n",
    "    y = k1 * x + n1\n",
    "    if (x >= min(t1[0], t2[0]) and x <= max(t1[0], t2[0])) and (x >= min(t3[0], t4[0]) and x <= max(t3[0], t4[0])) and (y >= min(t1[1], t2[1]) and y <= max(t1[1], t2[1])) and (y >= min(t3[1], t4[1]) and y <= max(t3[1], t4[1])):\n",
    "            return True\n",
    "    return False\n",
    "\n",
    "presecisca = []\n",
    "for i in range(st_tock):\n",
    "    for j in range(st_tock):\n",
    "        a = []\n",
    "        for k in range(st_tock):\n",
    "            for l in range(st_tock):\n",
    "                if alisesekata(seznam_tock[i], seznam_tock[j], seznam_tock[k], seznam_tock[l]):\n",
    "                    a.append(1)\n",
    "                else: a.append(0)\n",
    "        presecisca.append(a)\n",
    "\n",
    "print(\"Matrika presečišč uspešno izračunana\")\n"
   ]
  },
  {
   "cell_type": "code",
   "execution_count": 66,
   "metadata": {
    "collapsed": false
   },
   "outputs": [
    {
     "name": "stdout",
     "output_type": "stream",
     "text": [
      "Linearni program uspešno rešen\n",
      "Vrednost rešitve: 17.56\n"
     ]
    }
   ],
   "source": [
    "# Linearni program\n",
    "\n",
    "# Ustvarimo linerani program\n",
    "\n",
    "p = MixedIntegerLinearProgram(maximization=True)\n",
    "x = p.new_variable(binary=True)\n",
    "\n",
    "# Nastavimo cilj programa (torej minimizacijo dolžine povezav)\n",
    "if nacin == \"max\":\n",
    "    cilj = 2\n",
    "if nacin == \"min\":\n",
    "    cilj = 1\n",
    "p.set_objective((-1)^(cilj) * 1/2 * sum(x[i*st_tock + j] * razdalje[i][j] for i in range(st_tock) for j in range(st_tock)))\n",
    "\n",
    "# Pogoji za pravilno rešitev\n",
    "    # 1.: iz vsake točke vodi samo ena povezava\n",
    "for i in range(st_tock):\n",
    "    p.add_constraint(sum(x[i*st_tock + j] for j in range(st_tock)) == 1)\n",
    "\n",
    "    # 2.: v vsako točko pride samo ena povezava\n",
    "for j in range(st_tock):\n",
    "    p.add_constraint(sum(x[i*st_tock + j] for i in range(st_tock)) == 1)\n",
    "\n",
    "    # 3.: če je uporabljena povezava ij mora biti uporabljena tudi ji\n",
    "for i in range(st_tock):\n",
    "    for j in range(st_tock):\n",
    "        p.add_constraint(x[i*st_tock + j] == x[j*st_tock + i])\n",
    "\n",
    "    # 4.: povezave se ne smejo sekati\n",
    "for i in range(st_tock):\n",
    "    for j in range(st_tock):\n",
    "        p.add_constraint(st_tock * x[i*st_tock + j] + sum(x[st_tock * k + l] * presecisca[st_tock * i + j][st_tock * k + l] for k in range(st_tock) for l in range(st_tock)) <= st_tock)\n",
    "\n",
    "vrednost = p.solve()\n",
    "if nacin == \"min\":\n",
    "    vrednost = - vrednost\n",
    "\n",
    "\n",
    "\n",
    "resitev = p.get_values(x)\n",
    "\n",
    "print(\"Linearni program uspešno rešen\")\n",
    "print(\"Vrednost rešitve: \" + str(round(vrednost,2)))"
   ]
  },
  {
   "cell_type": "code",
   "execution_count": 67,
   "metadata": {
    "collapsed": false
   },
   "outputs": [
    {
     "name": "stdout",
     "output_type": "stream",
     "text": [
      "Prikaz uporabljenih povezav za optimalno rešitev:\n"
     ]
    },
    {
     "data": {
      "image/png": "[encoded data removed]",
      "text/plain": [
       "Graphics object consisting of 9 graphics primitives"
      ]
     },
     "execution_count": 67,
     "metadata": {
     },
     "output_type": "execute_result"
    }
   ],
   "source": [
    "uporabljene_povezave = []\n",
    "\n",
    "for i in range(st_tock):\n",
    "    for j in range(st_tock):\n",
    "        if resitev[st_tock * i + j] == 1.0:\n",
    "            if [j,i] not in uporabljene_povezave:\n",
    "                uporabljene_povezave.append([i,j])\n",
    "\n",
    "seznam_daljic = []\n",
    "\n",
    "for povezava in uporabljene_povezave:\n",
    "    seznam_daljic.append(line([seznam_tock[povezava[0]], seznam_tock[povezava[1]]]))\n",
    "\n",
    "print(\"Prikaz uporabljenih povezav za optimalno rešitev:\")\n",
    "show(graf_tock + sum(seznam_daljic[i] for i in range(st_tock / 2)), aspect_ratio=1)"
   ]
  }
 ],
 "metadata": {
  "kernelspec": {
   "display_name": "SageMath 9.2",
   "language": "sagemath",
   "metadata": {
    "cocalc": {
     "description": "Open-source mathematical software system",
     "priority": 10,
     "url": "https://www.sagemath.org/"
    }
   },
   "name": "sage-9.2",
   "resource_dir": "/ext/jupyter/kernels/sage-9.2"
  },
  "language_info": {
   "codemirror_mode": {
    "name": "ipython",
    "version": 3
   },
   "file_extension": ".py",
   "mimetype": "text/x-python",
   "name": "python",
   "nbconvert_exporter": "python",
   "pygments_lexer": "ipython3",
   "version": "3.8.5"
  }
 },
 "nbformat": 4,
 "nbformat_minor": 4
}